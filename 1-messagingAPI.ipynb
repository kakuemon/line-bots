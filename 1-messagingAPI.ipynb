{
 "cells": [
  {
   "cell_type": "markdown",
   "metadata": {},
   "source": [
    "# Setup"
   ]
  },
  {
   "cell_type": "code",
   "execution_count": null,
   "metadata": {},
   "outputs": [],
   "source": [
    "user_id = \"\"\n",
    "access_token = \"\""
   ]
  },
  {
   "cell_type": "code",
   "execution_count": null,
   "metadata": {},
   "outputs": [],
   "source": [
    "!pip3 install line-bot-sdk\n",
    "\n",
    "from linebot import LineBotApi\n",
    "from linebot.models import TextSendMessage, StickerSendMessage, LocationSendMessage\n",
    "from linebot.exceptions import LineBotApiError\n",
    "\n",
    "line_bot_api = LineBotApi(access_token)"
   ]
  },
  {
   "cell_type": "markdown",
   "metadata": {},
   "source": [
    "# Push message"
   ]
  },
  {
   "cell_type": "code",
   "execution_count": null,
   "metadata": {},
   "outputs": [],
   "source": [
    "text = \"Hello World!\"\n",
    "\n",
    "line_bot_api.push_message(user_id, TextSendMessage(text=text))\n",
    "#line_bot_api.multicast([user_id], TextSendMessage(text=text))"
   ]
  },
  {
   "cell_type": "markdown",
   "metadata": {},
   "source": [
    "# Send Stamp\n",
    "stamp list: https://developers.line.biz/media/messaging-api/sticker_list.pdf"
   ]
  },
  {
   "cell_type": "code",
   "execution_count": null,
   "metadata": {},
   "outputs": [],
   "source": [
    "package_id = 1\n",
    "sticker_id = 1\n",
    "\n",
    "line_bot_api.push_message(user_id, StickerSendMessage(package_id=package_id ,sticker_id=sticker_id))"
   ]
  },
  {
   "cell_type": "markdown",
   "metadata": {},
   "source": [
    "# Send Map"
   ]
  },
  {
   "cell_type": "code",
   "execution_count": null,
   "metadata": {},
   "outputs": [],
   "source": [
    "title = \"9/23(月) 会場\"\n",
    "address = \"東京都千代田区・・・\"\n",
    "latitude = 35.704294\n",
    "longitude = 139.772371\n",
    "\n",
    "line_bot_api.push_message(user_id, LocationSendMessage(title=title, address=address, latitude=latitude, longitude=longitude))"
   ]
  },
  {
   "cell_type": "markdown",
   "metadata": {},
   "source": [
    "# Get user profile"
   ]
  },
  {
   "cell_type": "code",
   "execution_count": null,
   "metadata": {},
   "outputs": [],
   "source": [
    "profile = line_bot_api.get_profile(user_id)\n",
    "print(f'名前: {profile.display_name}')\n",
    "print(f'ユーザーID: {profile.user_id}')\n",
    "print(f'プロフィール写真: {profile.picture_url}')\n",
    "print(f'メッセージ: {profile.status_message}')"
   ]
  },
  {
   "cell_type": "markdown",
   "metadata": {},
   "source": [
    "# Get followers"
   ]
  },
  {
   "cell_type": "code",
   "execution_count": null,
   "metadata": {},
   "outputs": [],
   "source": [
    "date = \"20190914\"\n",
    "insight = line_bot_api.get_insight_followers(date)\n",
    "if insight.status == \"ready\": \n",
    "    print(f'ユーザー数: {insight.followers}')\n",
    "    print(f'ブロックしているユーザー数: {insight.blocks}')\n",
    "else:\n",
    "    print(insight.status)"
   ]
  },
  {
   "cell_type": "code",
   "execution_count": null,
   "metadata": {},
   "outputs": [],
   "source": []
  }
 ],
 "metadata": {
  "kernelspec": {
   "display_name": "Python 3",
   "language": "python",
   "name": "python3"
  },
  "language_info": {
   "codemirror_mode": {
    "name": "ipython",
    "version": 3
   },
   "file_extension": ".py",
   "mimetype": "text/x-python",
   "name": "python",
   "nbconvert_exporter": "python",
   "pygments_lexer": "ipython3",
   "version": "3.6.4"
  }
 },
 "nbformat": 4,
 "nbformat_minor": 2
}
