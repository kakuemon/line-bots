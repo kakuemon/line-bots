{
 "cells": [
  {
   "cell_type": "markdown",
   "metadata": {},
   "source": [
    "# セットアップ"
   ]
  },
  {
   "cell_type": "code",
   "execution_count": 8,
   "metadata": {},
   "outputs": [
    {
     "name": "stdout",
     "output_type": "stream",
     "text": [
      "Collecting line-bot-sdk\n",
      "  Using cached https://files.pythonhosted.org/packages/5e/02/47891195ad38ec06fac2d8076ddac0c0640ac1f6e941c1aec798c55584a2/line_bot_sdk-1.15.0-py2.py3-none-any.whl\n",
      "Requirement already satisfied: requests>=2.0 in /Users/sekiguchi/opt/anaconda3/lib/python3.7/site-packages (from line-bot-sdk) (2.22.0)\n",
      "Requirement already satisfied: future in /Users/sekiguchi/opt/anaconda3/lib/python3.7/site-packages (from line-bot-sdk) (0.17.1)\n",
      "Requirement already satisfied: chardet<3.1.0,>=3.0.2 in /Users/sekiguchi/opt/anaconda3/lib/python3.7/site-packages (from requests>=2.0->line-bot-sdk) (3.0.4)\n",
      "Requirement already satisfied: certifi>=2017.4.17 in /Users/sekiguchi/opt/anaconda3/lib/python3.7/site-packages (from requests>=2.0->line-bot-sdk) (2019.9.11)\n",
      "Requirement already satisfied: urllib3!=1.25.0,!=1.25.1,<1.26,>=1.21.1 in /Users/sekiguchi/opt/anaconda3/lib/python3.7/site-packages (from requests>=2.0->line-bot-sdk) (1.24.2)\n",
      "Requirement already satisfied: idna<2.9,>=2.5 in /Users/sekiguchi/opt/anaconda3/lib/python3.7/site-packages (from requests>=2.0->line-bot-sdk) (2.8)\n",
      "Installing collected packages: line-bot-sdk\n",
      "Successfully installed line-bot-sdk-1.15.0\n"
     ]
    }
   ],
   "source": [
    "#このセルは1回実行すれば今後する必要はありません\n",
    "!pip install line-bot-sdk"
   ]
  },
  {
   "cell_type": "markdown",
   "metadata": {},
   "source": [
    "ライブラリのインポート"
   ]
  },
  {
   "cell_type": "code",
   "execution_count": 10,
   "metadata": {},
   "outputs": [],
   "source": [
    "import pandas as pd\n",
    "from linebot import LineBotApi\n",
    "from linebot.models import TextSendMessage, StickerSendMessage, LocationSendMessage\n",
    "from linebot.exceptions import LineBotApiError"
   ]
  },
  {
   "cell_type": "markdown",
   "metadata": {},
   "source": [
    "ユーザーIDとアクセストークンを用いてLINE Bot APIにアクセス"
   ]
  },
  {
   "cell_type": "code",
   "execution_count": 19,
   "metadata": {},
   "outputs": [],
   "source": [
    "df = pd.read_json(\"my_credentials.json\")[\"line\"]\n",
    "user_id = df[\"user_id\"]\n",
    "access_token = df[\"channel_access_token\"]\n",
    "\n",
    "line_bot_api = LineBotApi(access_token)"
   ]
  },
  {
   "cell_type": "markdown",
   "metadata": {},
   "source": [
    "# メッセージの送信"
   ]
  },
  {
   "cell_type": "code",
   "execution_count": 20,
   "metadata": {},
   "outputs": [],
   "source": [
    "text = \"Hello World!\"\n",
    "\n",
    "line_bot_api.push_message(user_id, TextSendMessage(text=text))\n",
    "#line_bot_api.multicast([user_id], TextSendMessage(text=text))"
   ]
  },
  {
   "cell_type": "markdown",
   "metadata": {},
   "source": [
    "# スタンプの送信\n",
    "スタンプリスト: https://developers.line.biz/media/messaging-api/sticker_list.pdf"
   ]
  },
  {
   "cell_type": "code",
   "execution_count": 21,
   "metadata": {},
   "outputs": [],
   "source": [
    "package_id = 1\n",
    "sticker_id = 1\n",
    "\n",
    "line_bot_api.push_message(user_id, StickerSendMessage(package_id=package_id ,sticker_id=sticker_id))"
   ]
  },
  {
   "cell_type": "markdown",
   "metadata": {},
   "source": [
    "# 地図の送信"
   ]
  },
  {
   "cell_type": "code",
   "execution_count": 22,
   "metadata": {},
   "outputs": [],
   "source": [
    "title = \"9/23(月) 会場\"\n",
    "address = \"東京都千代田区・・・\"\n",
    "latitude = 35.704294\n",
    "longitude = 139.772371\n",
    "\n",
    "line_bot_api.push_message(user_id, LocationSendMessage(title=title, address=address, latitude=latitude, longitude=longitude))"
   ]
  },
  {
   "cell_type": "markdown",
   "metadata": {},
   "source": [
    "# Get user profile"
   ]
  },
  {
   "cell_type": "code",
   "execution_count": 23,
   "metadata": {},
   "outputs": [
    {
     "name": "stdout",
     "output_type": "stream",
     "text": [
      "名前: 関口 一樹\n",
      "ユーザーID: U6d22418fbbd27d92af5c8eb3bf52215e\n",
      "プロフィール写真: https://profile.line-scdn.net/0h9aeTIwtOZk5YLUoK7e0ZGWRoaCMvA2AGIB9-eHx4OnZwGigdYUJ-eC8pb3YiTXFNbR58K3gsMS1x\n",
      "メッセージ: None\n"
     ]
    }
   ],
   "source": [
    "profile = line_bot_api.get_profile(user_id)\n",
    "print(f'名前: {profile.display_name}')\n",
    "print(f'ユーザーID: {profile.user_id}')\n",
    "print(f'プロフィール写真: {profile.picture_url}')\n",
    "print(f'メッセージ: {profile.status_message}')"
   ]
  },
  {
   "cell_type": "markdown",
   "metadata": {},
   "source": [
    "# Get followers"
   ]
  },
  {
   "cell_type": "code",
   "execution_count": 25,
   "metadata": {},
   "outputs": [
    {
     "name": "stdout",
     "output_type": "stream",
     "text": [
      "ユーザー数: 13\n",
      "ブロックしているユーザー数: 1\n"
     ]
    }
   ],
   "source": [
    "date = \"20191201\"\n",
    "insight = line_bot_api.get_insight_followers(date)\n",
    "if insight.status == \"ready\": \n",
    "    print(f'ユーザー数: {insight.followers}')\n",
    "    print(f'ブロックしているユーザー数: {insight.blocks}')\n",
    "else:\n",
    "    print(insight.status)"
   ]
  },
  {
   "cell_type": "code",
   "execution_count": null,
   "metadata": {},
   "outputs": [],
   "source": []
  }
 ],
 "metadata": {
  "kernelspec": {
   "display_name": "Python 3",
   "language": "python",
   "name": "python3"
  },
  "language_info": {
   "codemirror_mode": {
    "name": "ipython",
    "version": 3
   },
   "file_extension": ".py",
   "mimetype": "text/x-python",
   "name": "python",
   "nbconvert_exporter": "python",
   "pygments_lexer": "ipython3",
   "version": "3.7.4"
  }
 },
 "nbformat": 4,
 "nbformat_minor": 2
}
