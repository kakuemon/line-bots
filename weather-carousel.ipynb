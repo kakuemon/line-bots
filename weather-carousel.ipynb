{
 "cells": [
  {
   "cell_type": "markdown",
   "metadata": {},
   "source": [
    "# Setup"
   ]
  },
  {
   "cell_type": "markdown",
   "metadata": {},
   "source": [
    "ライブラリのインポート"
   ]
  },
  {
   "cell_type": "code",
   "execution_count": 1,
   "metadata": {},
   "outputs": [],
   "source": [
    "from flask import Flask, request\n",
    "import random, json, urllib, requests\n",
    "import urllib.parse\n",
    "import urllib.request\n",
    "import xml.etree.ElementTree as ET\n",
    "import pandas as pd\n",
    "\n",
    "# line用ライブラリ\n",
    "from linebot import (\n",
    "    LineBotApi, WebhookHandler\n",
    ")\n",
    "from linebot.exceptions import (\n",
    "    InvalidSignatureError\n",
    ")\n",
    "from linebot.models import (\n",
    "    MessageEvent, TextMessage, TextSendMessage, LocationMessage, LocationSendMessage\n",
    ")"
   ]
  },
  {
   "cell_type": "code",
   "execution_count": 2,
   "metadata": {},
   "outputs": [],
   "source": [
    "df = pd.read_json(\"my_credentials.json\")\n",
    "channel_secret = df[\"line\"][\"channel_secret\"]\n",
    "access_token = df[\"line\"][\"channel_access_token\"]\n",
    "google_places_api_key = df[\"google_map\"][\"api_key\"]"
   ]
  },
  {
   "cell_type": "markdown",
   "metadata": {},
   "source": [
    "# 天気"
   ]
  },
  {
   "cell_type": "code",
   "execution_count": 4,
   "metadata": {},
   "outputs": [],
   "source": [
    "import pandas as pd\n",
    "import requests\n",
    "\n",
    "def get_weather_api():\n",
    "    df = pd.read_json(\"../credentials.json\")\n",
    "    weather_api = df[\"weather\"][\"api_key\"]\n",
    "    return weather_api"
   ]
  },
  {
   "cell_type": "code",
   "execution_count": 15,
   "metadata": {},
   "outputs": [],
   "source": [
    "def get_weather():\n",
    "    return {\n",
    "        \"type\": \"template\",\n",
    "        \"altText\": \"this is a image carousel template\",\n",
    "        \"template\": {\n",
    "            \"type\": \"image_carousel\",\n",
    "            \"columns\": [\n",
    "                {\n",
    "                    \"imageUrl\": \"https://www.photolibrary.jp/mhd2/img642/450-20181025155626206204.jpg\",\n",
    "                    \"action\": {\n",
    "                        \"type\": \"uri\",\n",
    "                        \"label\": \"View detail\",\n",
    "                        \"uri\": \"https://classmethod.jp/\"\n",
    "                    }\n",
    "                },\n",
    "                {\n",
    "                    \"imageUrl\": \"hhttps://www.photolibrary.jp/mhd2/img642/450-20181025155626206204.jpg\",\n",
    "                    \"action\": {\n",
    "                        \"type\": \"postback\",\n",
    "                        \"label\": \"Buy\",\n",
    "                        \"data\": \"action=buy&itemid=111\"\n",
    "                    }\n",
    "                },\n",
    "                {\n",
    "                    \"imageUrl\": \"https://www.photolibrary.jp/mhd2/img642/450-20181025155626206204.jpg\",\n",
    "                    \"action\": {\n",
    "                        \"type\": \"message\",\n",
    "                        \"label\": \"Yes\",\n",
    "                        \"text\": \"yes\"\n",
    "                    }\n",
    "                }\n",
    "            ]\n",
    "        }\n",
    "    }"
   ]
  },
  {
   "cell_type": "code",
   "execution_count": 16,
   "metadata": {},
   "outputs": [
    {
     "data": {
      "text/plain": [
       "{'type': 'template',\n",
       " 'altText': 'this is a image carousel template',\n",
       " 'template': {'type': 'image_carousel',\n",
       "  'columns': [{'imageUrl': 'https://www.photolibrary.jp/mhd2/img642/450-20181025155626206204.jpg',\n",
       "    'action': {'type': 'uri',\n",
       "     'label': 'View detail',\n",
       "     'uri': 'https://classmethod.jp/'}},\n",
       "   {'imageUrl': 'hhttps://www.photolibrary.jp/mhd2/img642/450-20181025155626206204.jpg',\n",
       "    'action': {'type': 'postback',\n",
       "     'label': 'Buy',\n",
       "     'data': 'action=buy&itemid=111'}},\n",
       "   {'imageUrl': 'https://www.photolibrary.jp/mhd2/img642/450-20181025155626206204.jpg',\n",
       "    'action': {'type': 'message', 'label': 'Yes', 'text': 'yes'}}]}}"
      ]
     },
     "execution_count": 16,
     "metadata": {},
     "output_type": "execute_result"
    }
   ],
   "source": [
    "get_weather()"
   ]
  },
  {
   "cell_type": "code",
   "execution_count": 43,
   "metadata": {},
   "outputs": [
    {
     "name": "stdout",
     "output_type": "stream",
     "text": [
      " * Serving Flask app \"__main__\" (lazy loading)\n",
      " * Environment: production\n",
      "   WARNING: This is a development server. Do not use it in a production deployment.\n",
      "   Use a production WSGI server instead.\n",
      " * Debug mode: off\n"
     ]
    },
    {
     "name": "stderr",
     "output_type": "stream",
     "text": [
      " * Running on http://127.0.0.1:5000/ (Press CTRL+C to quit)\n",
      "127.0.0.1 - - [08/Jan/2020 01:51:13] \"POST /callback HTTP/1.1\" 200 -\n"
     ]
    }
   ],
   "source": [
    "from linebot.models import (CarouselColumn, CarouselTemplate, ImageMessage, ImageCarouselTemplate, ImageCarouselColumn, PostbackAction,\n",
    "                            MessageEvent, TemplateSendMessage, TextMessage, MessageAction, URIAction,\n",
    "                            TextSendMessage, URITemplateAction)\n",
    "\n",
    "app = Flask(__name__)\n",
    "\n",
    "line_bot_api = LineBotApi(access_token)\n",
    "handler = WebhookHandler(channel_secret)\n",
    "\n",
    "@app.route(\"/\")\n",
    "def hello_world():\n",
    "    return \"hello world!\"\n",
    "\n",
    "@app.route(\"/callback\", methods=['POST'])\n",
    "def callback():\n",
    "    signature = request.headers['X-Line-Signature']\n",
    "    body = request.get_data(as_text=True)\n",
    "    app.logger.info(\"Request body: \" + body)\n",
    "\n",
    "    try:\n",
    "        handler.handle(body, signature)\n",
    "    except InvalidSignatureError:\n",
    "        abort(400)\n",
    "\n",
    "    return 'OK'\n",
    "\n",
    "@handler.add(MessageEvent, message=TextMessage)\n",
    "def handle_message(event):\n",
    "    if event.message.text == \"天気\":\n",
    "        line_bot_api.reply_message(\n",
    "            event.reply_token,\n",
    "            TemplateSendMessage(\n",
    "            alt_text='ImageCarousel template',\n",
    "            template=ImageCarouselTemplate(\n",
    "                columns=[\n",
    "                    ImageCarouselColumn(\n",
    "                        image_url='https://www.photolibrary.jp/mhd6/img174/450-2010101017262560119.jpg',\n",
    "                        action=MessageAction(\n",
    "                            label='message1'\n",
    "                        )\n",
    "#                         action=PostbackAction(\n",
    "#                             label='postback1',\n",
    "#                             display_text='postback text1',\n",
    "#                             data='action=buy&itemid=1'\n",
    "#                         )\n",
    "                    ),\n",
    "                    ImageCarouselColumn(\n",
    "                        image_url='https://example.com/item2.jpg',\n",
    "                        action=PostbackAction(\n",
    "                            label='postback2',\n",
    "                            display_text='postback text2',\n",
    "                            data='action=buy&itemid=2'\n",
    "                        )\n",
    "                    )\n",
    "                ]\n",
    "            )\n",
    "        )\n",
    "    )\n",
    "    elif event.message.text == 'てんき':\n",
    "        line_bot_api.reply_message(\n",
    "        event.reply_token,\n",
    "        TemplateSendMessage(\n",
    "            alt_text='Carousel template',\n",
    "            template=CarouselTemplate(\n",
    "                columns=[\n",
    "                    CarouselColumn(\n",
    "                        thumbnail_image_url='https://example.com/item1.jpg',\n",
    "                        title='this is menu1',\n",
    "                        text='description1',\n",
    "                        actions=[\n",
    "                            PostbackAction(\n",
    "                                label='postback2',\n",
    "                                display_text='postback text2',\n",
    "                                data='action=buy&itemid=2'\n",
    "                            ),\n",
    "                            MessageAction(\n",
    "                                label='message2',\n",
    "                                text='message text2'\n",
    "                            ),\n",
    "                            URIAction(\n",
    "                                label='uri2',\n",
    "                                uri='http://example.com/2'\n",
    "                            )\n",
    "                        ]\n",
    "                    ),\n",
    "                    CarouselColumn(\n",
    "                        thumbnail_image_url='https://example.com/item2.jpg',\n",
    "                        title='this is menu2',\n",
    "                        text='description2',\n",
    "                        actions=[\n",
    "                            PostbackAction(\n",
    "                                label='postback2',\n",
    "                                display_text='postback text2',\n",
    "                                data='action=buy&itemid=2'\n",
    "                            ),\n",
    "                            MessageAction(\n",
    "                                label='message2',\n",
    "                                text='message text2'\n",
    "                            ),\n",
    "                            URIAction(\n",
    "                                label='uri2',\n",
    "                                uri='http://example.com/2'\n",
    "                            )\n",
    "                        ]\n",
    "                    )\n",
    "                ]\n",
    "            )\n",
    "        )\n",
    "    )\n",
    "    else:\n",
    "        line_bot_api.reply_message(\n",
    "            event.reply_token,\n",
    "            TextSendMessage(text=event.message.text)\n",
    "        )\n",
    "\n",
    "\n",
    "if __name__ == \"__main__\":\n",
    "    app.run()"
   ]
  },
  {
   "cell_type": "code",
   "execution_count": 1,
   "metadata": {},
   "outputs": [
    {
     "name": "stdout",
     "output_type": "stream",
     "text": [
      "/Users/sekiguchi/github/kakuemon/line-bots\r\n"
     ]
    }
   ],
   "source": [
    "!pwd"
   ]
  },
  {
   "cell_type": "code",
   "execution_count": null,
   "metadata": {},
   "outputs": [],
   "source": []
  }
 ],
 "metadata": {
  "kernelspec": {
   "display_name": "Python 3",
   "language": "python",
   "name": "python3"
  },
  "language_info": {
   "codemirror_mode": {
    "name": "ipython",
    "version": 3
   },
   "file_extension": ".py",
   "mimetype": "text/x-python",
   "name": "python",
   "nbconvert_exporter": "python",
   "pygments_lexer": "ipython3",
   "version": "3.7.4"
  }
 },
 "nbformat": 4,
 "nbformat_minor": 2
}
