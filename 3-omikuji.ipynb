{
 "cells": [
  {
   "cell_type": "markdown",
   "metadata": {},
   "source": [
    "# Setup"
   ]
  },
  {
   "cell_type": "markdown",
   "metadata": {},
   "source": [
    "ライブラリのインポート"
   ]
  },
  {
   "cell_type": "code",
   "execution_count": null,
   "metadata": {},
   "outputs": [],
   "source": [
    "from flask import Flask, request\n",
    "import random, json, requests\n",
    "import pandas as pd\n",
    "\n",
    "# line用ライブラリ\n",
    "from linebot import (\n",
    "    LineBotApi, WebhookHandler\n",
    ")\n",
    "from linebot.exceptions import (\n",
    "    InvalidSignatureError\n",
    ")\n",
    "from linebot.models import (\n",
    "    MessageEvent, TextMessage, TextSendMessage, StickerSendMessage,\n",
    ")"
   ]
  },
  {
   "cell_type": "markdown",
   "metadata": {},
   "source": [
    "credentialsの取得"
   ]
  },
  {
   "cell_type": "code",
   "execution_count": null,
   "metadata": {},
   "outputs": [],
   "source": [
    "df = pd.read_json(\"credentials.json\")[\"line\"]\n",
    "channel_secret = df[\"channel_secret\"]\n",
    "access_token = df[\"channel_access_token\"]"
   ]
  },
  {
   "cell_type": "markdown",
   "metadata": {},
   "source": [
    "# おみくじ"
   ]
  },
  {
   "cell_type": "code",
   "execution_count": null,
   "metadata": {},
   "outputs": [],
   "source": [
    "app = Flask(__name__)\n",
    "\n",
    "line_bot_api = LineBotApi(access_token)\n",
    "handler = WebhookHandler(channel_secret)\n",
    "\n",
    "# LINE APIおよびWebhookの接続\n",
    "line_bot_api = LineBotApi(access_token)\n",
    "handler = WebhookHandler(channel_secret)\n",
    "\n",
    "# Flaskのルート設定\n",
    "@app.route(\"/\")\n",
    "def hello_world():\n",
    "    return \"hello world!\"\n",
    "\n",
    "@app.route(\"/callback\", methods=['POST'])\n",
    "def callback():\n",
    "    signature = request.headers['X-Line-Signature']\n",
    "    body = request.get_data(as_text=True)\n",
    "    app.logger.info(\"Request body: \" + body)\n",
    "\n",
    "    try:\n",
    "        handler.handle(body, signature)\n",
    "    except InvalidSignatureError:\n",
    "        abort(400)\n",
    "\n",
    "    return 'OK'\n",
    "\n",
    "# 「おみくじ」と打つとランダムで運勢が返ってくる\n",
    "@handler.add(MessageEvent, message=TextMessage)\n",
    "def handle_message(event):\n",
    "    if event.message.text == \"おみくじ\":\n",
    "        omikuji = random.choice([\"大吉\", \"中吉\", \"小吉\", \"吉\", \"凶\", \"大凶\"])\n",
    "        line_bot_api.reply_message(\n",
    "            event.reply_token,\n",
    "            TextSendMessage(text=omikuji)\n",
    "        )\n",
    "    else:\n",
    "        line_bot_api.reply_message(\n",
    "            event.reply_token,\n",
    "            TextSendMessage(text=event.message.text)\n",
    "        )\n",
    "\n",
    "\n",
    "#------------------------\n",
    "if __name__ == \"__main__\":\n",
    "    app.run()"
   ]
  },
  {
   "cell_type": "code",
   "execution_count": null,
   "metadata": {},
   "outputs": [],
   "source": []
  }
 ],
 "metadata": {
  "kernelspec": {
   "display_name": "Python 3",
   "language": "python",
   "name": "python3"
  },
  "language_info": {
   "codemirror_mode": {
    "name": "ipython",
    "version": 3
   },
   "file_extension": ".py",
   "mimetype": "text/x-python",
   "name": "python",
   "nbconvert_exporter": "python",
   "pygments_lexer": "ipython3",
   "version": "3.7.4"
  }
 },
 "nbformat": 4,
 "nbformat_minor": 2
}
